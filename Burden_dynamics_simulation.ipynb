{
 "cells": [
  {
   "cell_type": "code",
   "execution_count": 1,
   "id": "0a767bd8",
   "metadata": {},
   "outputs": [],
   "source": [
    "import numpy as np\n",
    "import networkx as nx\n",
    "import pandas as pd\n",
    "import matplotlib.pyplot as plt\n",
    "from mpl_toolkits.basemap import Basemap as Basemap\n",
    "import seaborn as sns\n",
    "from collections import defaultdict\n",
    "import random\n",
    "import matplotlib as mpl"
   ]
  },
  {
   "cell_type": "markdown",
   "id": "e1ef02ad",
   "metadata": {},
   "source": [
    "# Section 1. Model"
   ]
  },
  {
   "cell_type": "code",
   "execution_count": 37,
   "id": "04794b35",
   "metadata": {},
   "outputs": [],
   "source": [
    "def normalized_graph(graph):\n",
    "    for i in graph.nodes():\n",
    "        sum_v=np.sum([graph[i][j]['weight'] for j in graph.nodes() if (i,j) in graph.edges()])\n",
    "        for j in graph.nodes():\n",
    "            if (i,j) in graph.edges():\n",
    "                if sum_v==0:\n",
    "                    graph[i][j]['prob']=0\n",
    "                else:\n",
    "                    graph[i][j]['prob']=graph[i][j]['weight']/sum_v\n",
    "    return graph\n",
    "\n",
    "def dynamical_burden_model(graph,t_list,node_capacity_dict,node_burden_dict):\n",
    "    #graph=normalized_graph(graph)\n",
    "\n",
    "    interval=1\n",
    "    \n",
    "    output_mat=[]\n",
    "\n",
    "    for i in graph.nodes():\n",
    "        graph.nodes[i]['C']=0\n",
    "        graph.nodes[i]['new_C']=0\n",
    "        \n",
    "    for t in t_list:\n",
    "        tot_burden=np.sum([node_burden_dict[i][t] for i in graph.nodes()])\n",
    "        \n",
    "        for i in graph.nodes():\n",
    "            graph.nodes[i]['capacity']=-node_capacity_dict[i] ###left capacity\n",
    "            graph.nodes[i]['burden']=node_burden_dict[i][t] ##excessive burden\n",
    "            \n",
    "            in_flow_burden=0\n",
    "            for j in graph.nodes():\n",
    "                if (j,i) in graph.edges(): \n",
    "                    in_flow_burden+=graph[j][i]['weight']*tot_burden\n",
    "                    \n",
    "            \n",
    "            ###absorb\n",
    "            if in_flow_burden+graph.nodes[i]['capacity']<0:\n",
    "                    graph.nodes[i]['absorb']=1\n",
    "            else:\n",
    "                if graph.nodes[i]['capacity']<0:\n",
    "                    graph.nodes[i]['absorb']=-graph.nodes[i]['capacity']/in_flow_burden\n",
    "                else:\n",
    "                    graph.nodes[i]['absorb']=0\n",
    "               \n",
    "     \n",
    "        for i in graph.nodes():\n",
    "            decrease_bruden=0\n",
    "            for j in graph.nodes():\n",
    "                if (i,j) in graph.edges(): \n",
    "                    decrease_bruden-=tot_burden*graph[i][j]['weight']*graph.nodes[j]['absorb'] ###of no network\n",
    "\n",
    "            graph.nodes[i]['burden']=graph.nodes[i]['burden']+decrease_bruden\n",
    "                \n",
    "            output_mat.append([t,i,graph.nodes[i]['burden'],decrease_bruden])\n",
    "            \n",
    "\n",
    "    return output_mat\n",
    "            "
   ]
  },
  {
   "cell_type": "code",
   "execution_count": 11,
   "id": "68c842a5",
   "metadata": {},
   "outputs": [],
   "source": [
    "def compute_adsorptive_capacity(df_output,df_output_be_compared):\n",
    "    return 1-df_output['C'].sum()/df_output_be_compared['C'].sum()"
   ]
  },
  {
   "cell_type": "markdown",
   "id": "8849c783",
   "metadata": {},
   "source": [
    "# Section 2. Diagaram "
   ]
  },
  {
   "cell_type": "code",
   "execution_count": 25,
   "id": "5dd8d590",
   "metadata": {},
   "outputs": [],
   "source": [
    "def example_external_burden(t_list,node_burden,typex):\n",
    "    fig,ax=plt.subplots(1,1,figsize=(2.5,2))\n",
    "    ax.plot(t_list,node_burden,color='#F78181',alpha=1,linewidth=4,label='Burden increase')\n",
    "    #ax.set_ylim(0,1)\n",
    "\n",
    "    ax.set_xlabel('t')\n",
    "    ax.set_ylabel('Excessive stress')\n",
    "    plt.tight_layout()\n",
    "    fig.savefig('result/diagram/example_burden_'+typex+'.png',dpi=600)\n",
    "    \n",
    "\n",
    "def example_temporal_capacity_plot(df_output,df_output_be_compared,label):\n",
    "    \n",
    "    fig,ax=plt.subplots(1,1,figsize=(2.5,2))\n",
    "    df_temp=df_output.groupby(['t'])['burden'].mean().reset_index()\n",
    "    \n",
    "\n",
    "    ax.plot(df_temp['t'],df_temp['burden'],color='#377eb8',linewidth=4,alpha=0.6)\n",
    "    \n",
    "    df_temp2=df_output_be_compared.groupby(['t'])['burden'].mean().reset_index()\n",
    "    ax.plot(df_temp2['t'],df_temp2['burden'],color='#999999',linewidth=4,alpha=0.6)\n",
    "    \n",
    "    ax.fill_between(df_temp2['t'],df_temp2['burden'],df_temp['burden'],color='#377eb8',alpha=0.1)\n",
    "    \n",
    "    r=compute_adsorptive_capacity(df_output,df_output_be_compared)\n",
    "    \n",
    "    print('adsorptive_capacity',round(r,2))\n",
    "    #ax.set_ylim(-1.2,1)\n",
    "    #ax.set_ylim(-6,1)\n",
    "    ax.invert_yaxis()\n",
    "    #ax.axhline(y=0, color='black', linestyle=':',linewidth=2)\n",
    "    ax.set_xlabel('t')\n",
    "    ax.set_ylabel('Average node stress')\n",
    "    plt.tight_layout()\n",
    "    fig.savefig('result/diagram/exampl_node_burden_('+label+').png',dpi=600)\n",
    "    \n",
    "def compute_adsorptive_capacity(df_output,df_output_be_compared):\n",
    "    \n",
    "    return 1-df_output['burden'].sum()/df_output_be_compared['burden'].sum()"
   ]
  },
  {
   "cell_type": "code",
   "execution_count": 9,
   "id": "ee1605e3",
   "metadata": {},
   "outputs": [
    {
     "data": {
      "image/png": "[encoded data removed]",
      "text/plain": [
       "<Figure size 180x144 with 1 Axes>"
      ]
     },
     "metadata": {
      "needs_background": "light"
     },
     "output_type": "display_data"
    }
   ],
   "source": [
    "t_list=np.arange(36)+1\n",
    "t_list_true=t_list/1\n",
    "node_burden_wave=(np.sin((t_list_true/3)-1.5)+1)*0.1*t_list*0.25\n",
    "#node_burden_wave=[1]*len(t_list)\n",
    "example_external_burden(t_list_true,node_burden_wave,'waves')\n"
   ]
  },
  {
   "cell_type": "code",
   "execution_count": 38,
   "id": "6a20ad05",
   "metadata": {},
   "outputs": [
    {
     "name": "stdout",
     "output_type": "stream",
     "text": [
      "adsorptive_capacity 0.4\n",
      "adsorptive_capacity 0.55\n",
      "adsorptive_capacity 0.48\n",
      "adsorptive_capacity 0.7\n"
     ]
    },
    {
     "data": {
      "image/png": "[encoded data removed]",
      "text/plain": [
       "<Figure size 180x144 with 1 Axes>"
      ]
     },
     "metadata": {
      "needs_background": "light"
     },
     "output_type": "display_data"
    },
    {
     "data": {
      "image/png": "[encoded data removed]",
      "text/plain": [
       "<Figure size 180x144 with 1 Axes>"
      ]
     },
     "metadata": {
      "needs_background": "light"
     },
     "output_type": "display_data"
    },
    {
     "data": {
      "image/png": "[encoded data removed]",
      "text/plain": [
       "<Figure size 180x144 with 1 Axes>"
      ]
     },
     "metadata": {
      "needs_background": "light"
     },
     "output_type": "display_data"
    },
    {
     "data": {
      "image/png": "[encoded data removed]",
      "text/plain": [
       "<Figure size 180x144 with 1 Axes>"
      ]
     },
     "metadata": {
      "needs_background": "light"
     },
     "output_type": "display_data"
    }
   ],
   "source": [
    "######Example case\n",
    "\n",
    "node_burden_zero=[0]*len(t_list)\n",
    "\n",
    "example_graph_1=nx.DiGraph()\n",
    "example_graph_1.add_edge('a','b',weight=0.25)\n",
    "example_graph_1.add_edge('a','c',weight=0.25)\n",
    "example_graph_1.add_edge('a','d',weight=0)\n",
    "\n",
    "example_graph_2=nx.DiGraph()\n",
    "example_graph_2.add_edge('a','b',weight=0.5)\n",
    "example_graph_2.add_edge('a','c',weight=0.5)\n",
    "example_graph_2.add_edge('a','d',weight=0)\n",
    "\n",
    "example_graph_3=nx.DiGraph()\n",
    "example_graph_3.add_edge('a','b',weight=0.167)\n",
    "example_graph_3.add_edge('a','c',weight=0.167)\n",
    "example_graph_3.add_edge('a','d',weight=0.167)\n",
    "\n",
    "example_graph_4=nx.DiGraph()\n",
    "example_graph_4.add_edge('a','b',weight=0.33)\n",
    "example_graph_4.add_edge('a','c',weight=0.33)\n",
    "example_graph_4.add_edge('a','d',weight=0.33)\n",
    "\n",
    "example_graph_0=nx.DiGraph()\n",
    "example_graph_0.add_edge('a','b',weight=0)\n",
    "example_graph_0.add_edge('a','c',weight=0)\n",
    "example_graph_0.add_edge('a','d',weight=0)\n",
    "\n",
    "\n",
    "#node_capacity_dict=dict(zip(['a','b','c','d'],[0,0.8,0.8,0.8,0.8]))\n",
    "#node_capacity_dict=dict(zip(['a','b','c','d'],[0,0.25,0.25,0.25,0.1]))\n",
    "node_capacity_dict=dict(zip(['a','b','c','d'],[0,0.2,0.2,0.2,0.2]))\n",
    "\n",
    "\n",
    "\n",
    "output_change_burden=[]\n",
    "\n",
    "for node_select, burden_label in zip([['a']],['_single']):\n",
    "    \n",
    "    node_burden_dict = defaultdict(dict)\n",
    "    for node in example_graph_0.nodes():\n",
    "        if node in node_select:\n",
    "            node_burden_dict[node]=dict(zip(t_list,node_burden_wave))\n",
    "        else:\n",
    "            node_burden_dict[node]=dict(zip(t_list,node_burden_zero))\n",
    "    \n",
    "    output_mat=dynamical_burden_model(example_graph_0,t_list,node_capacity_dict,node_burden_dict)\n",
    "\n",
    "    df_output_be_compared=pd.DataFrame(np.mat(output_mat),columns=['t','node','burden','decrease_bruden'])\n",
    "    df_output_be_compared['decrease_bruden']=df_output_be_compared['decrease_bruden'].astype(float)\n",
    "    \n",
    "    \n",
    "    df_output_be_compared['t']=df_output_be_compared['t'].astype(float)\n",
    "    df_output_be_compared['burden']=df_output_be_compared['burden'].astype(float)\n",
    "\n",
    "    \n",
    "    for graph, g_label in zip([example_graph_1,example_graph_2,example_graph_3,example_graph_4],['graph_1','graph_2','graph_3','graph_4']):\n",
    "        \n",
    "        output_mat=dynamical_stress_model(graph,t_list,node_capacity_dict,node_burden_dict)\n",
    "\n",
    "        df_output=pd.DataFrame(np.mat(output_mat),columns=['t','node','burden','decrease_bruden'])\n",
    "        \n",
    "        df_output['t']=df_output['t'].astype(float)\n",
    "        df_output['burden']=df_output['burden'].astype(float)\n",
    "        example_temporal_capacity_plot(df_output,df_output_be_compared,g_label+burden_label)\n",
    "        \n",
    "        output_change_burden.append([g_label,burden_label,df_output['burden'].sum()])\n",
    "#print(output_mat)\n",
    "    \n",
    "df_change_burden=pd.DataFrame(np.mat(output_change_burden),columns=['g_label','burden_label','change_of_burden'])"
   ]
  },
  {
   "cell_type": "code",
   "execution_count": null,
   "id": "31913708",
   "metadata": {},
   "outputs": [],
   "source": []
  }
 ],
 "metadata": {
  "kernelspec": {
   "display_name": "Python [conda env:jypter-env]",
   "language": "python",
   "name": "conda-env-jypter-env-py"
  },
  "language_info": {
   "codemirror_mode": {
    "name": "ipython",
    "version": 3
   },
   "file_extension": ".py",
   "mimetype": "text/x-python",
   "name": "python",
   "nbconvert_exporter": "python",
   "pygments_lexer": "ipython3",
   "version": "3.9.7"
  }
 },
 "nbformat": 4,
 "nbformat_minor": 5
}
